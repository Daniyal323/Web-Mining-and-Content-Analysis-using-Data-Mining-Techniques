{
  "nbformat": 4,
  "nbformat_minor": 0,
  "metadata": {
    "colab": {
      "provenance": []
    },
    "kernelspec": {
      "name": "python3",
      "display_name": "Python 3"
    },
    "language_info": {
      "name": "python"
    }
  },
  "cells": [
    {
      "cell_type": "code",
      "execution_count": null,
      "metadata": {
        "id": "RZ0rMwJYm01y"
      },
      "outputs": [],
      "source": [
        "import pandas as pd\n",
        "from sklearn.datasets import fetch_california_housing\n",
        "\n",
        "# Fetch the California housing dataset\n",
        "data = fetch_california_housing()\n",
        "\n",
        "# Create a DataFrame from the features and target variable\n",
        "df = pd.DataFrame(data.data, columns=data.feature_names)\n",
        "df['target'] = data.target\n",
        "\n",
        "# Save the DataFrame as a CSV file\n",
        "df.to_csv('house_prices.csv', index=False)\n"
      ]
    },
    {
      "cell_type": "code",
      "source": [
        "from sklearn.datasets import fetch_california_housing\n",
        "from sklearn.preprocessing import StandardScaler\n",
        "\n",
        "# Fetch the California housing dataset\n",
        "data = fetch_california_housing()\n",
        "\n",
        "# Extract the features and target variable\n",
        "X = data.data\n",
        "y = data.target\n",
        "\n",
        "# Perform data preprocessing\n",
        "scaler = StandardScaler()\n",
        "X_scaled = scaler.fit_transform(X)\n",
        "\n",
        "# Print the mean and standard deviation of the scaled features\n",
        "print(\"Mean of scaled features:\")\n",
        "print(X_scaled.mean(axis=0))\n",
        "print(\"\\nStandard deviation of scaled features:\")\n",
        "print(X_scaled.std(axis=0))\n"
      ],
      "metadata": {
        "colab": {
          "base_uri": "https://localhost:8080/"
        },
        "id": "W40fyP29nu_Z",
        "outputId": "1da6b8ed-0968-43c1-83e4-d73069ca5feb"
      },
      "execution_count": null,
      "outputs": [
        {
          "output_type": "stream",
          "name": "stdout",
          "text": [
            "Mean of scaled features:\n",
            "[ 6.60969987e-17  5.50808322e-18  6.60969987e-17 -1.06030602e-16\n",
            " -1.10161664e-17  3.44255201e-18 -1.07958431e-15 -8.52651283e-15]\n",
            "\n",
            "Standard deviation of scaled features:\n",
            "[1. 1. 1. 1. 1. 1. 1. 1.]\n"
          ]
        }
      ]
    },
    {
      "cell_type": "code",
      "source": [
        "from sklearn.datasets import fetch_california_housing\n",
        "from sklearn.decomposition import PCA\n",
        "\n",
        "# Fetch the California housing dataset\n",
        "data = fetch_california_housing()\n",
        "\n",
        "# Extract the features and target variable\n",
        "X = data.data\n",
        "y = data.target\n",
        "\n",
        "# Perform feature extraction using PCA\n",
        "pca = PCA(n_components=3)  # Set the number of components to extract\n",
        "X_extracted = pca.fit_transform(X)\n",
        "\n",
        "# Print the shape of the extracted features\n",
        "print(\"Shape of extracted features:\", X_extracted.shape)\n"
      ],
      "metadata": {
        "colab": {
          "base_uri": "https://localhost:8080/"
        },
        "id": "vxGIqsL-pTfh",
        "outputId": "9f3c0866-68f0-469e-dcd8-70bb034c6dc8"
      },
      "execution_count": null,
      "outputs": [
        {
          "output_type": "stream",
          "name": "stdout",
          "text": [
            "Shape of extracted features: (20640, 3)\n"
          ]
        }
      ]
    },
    {
      "cell_type": "code",
      "source": [
        "from sklearn.datasets import fetch_california_housing\n",
        "from sklearn.feature_selection import SelectKBest, mutual_info_regression\n",
        "import numpy as np\n",
        "\n",
        "# Fetch the California housing dataset\n",
        "data = fetch_california_housing()\n",
        "\n",
        "# Extract the features and target variable\n",
        "X = data.data\n",
        "y = data.target\n",
        "\n",
        "# Replace negative values with zeros\n",
        "X_non_negative = np.maximum(X, 0)\n",
        "\n",
        "# Apply logarithmic transformation to features\n",
        "X_log = np.log1p(X_non_negative)\n",
        "\n",
        "# Perform feature extraction\n",
        "k_best = SelectKBest(mutual_info_regression, k=3)  # Select the top 3 features\n",
        "X_extracted = k_best.fit_transform(X_log, y)\n",
        "\n",
        "# Print the shape of the extracted features\n",
        "print(\"Shape of extracted features:\", X_extracted.shape)"
      ],
      "metadata": {
        "colab": {
          "base_uri": "https://localhost:8080/"
        },
        "id": "k6Zx-hO0ofvS",
        "outputId": "92acf60e-90e6-4c26-f2d5-c2a780c41ddb"
      },
      "execution_count": null,
      "outputs": [
        {
          "output_type": "stream",
          "name": "stdout",
          "text": [
            "Shape of extracted features: (20640, 3)\n"
          ]
        }
      ]
    },
    {
      "cell_type": "markdown",
      "source": [
        "# New Section"
      ],
      "metadata": {
        "id": "URC1MFXzp0ce"
      }
    },
    {
      "cell_type": "code",
      "source": [
        "from sklearn.datasets import fetch_california_housing\n",
        "from sklearn.feature_selection import SelectKBest, mutual_info_regression\n",
        "from sklearn.preprocessing import MinMaxScaler\n",
        "\n",
        "# Fetch the California housing dataset\n",
        "data = fetch_california_housing()\n",
        "\n",
        "# Extract the features and target variable\n",
        "X = data.data\n",
        "y = data.target\n",
        "\n",
        "# Apply MinMaxScaler to normalize features between 0 and 1\n",
        "scaler = MinMaxScaler()\n",
        "X_scaled = scaler.fit_transform(X)\n",
        "\n",
        "# Perform feature selection using SelectKBest with mutual_info_regression\n",
        "k_best = SelectKBest(score_func=mutual_info_regression, k=3)  # Set the number of features to select\n",
        "X_selected = k_best.fit_transform(X_scaled, y)\n",
        "\n",
        "# Print the shape of the selected features\n",
        "print(\"Shape of selected features:\", X_selected.shape)\n"
      ],
      "metadata": {
        "colab": {
          "base_uri": "https://localhost:8080/"
        },
        "id": "T-k-IKPXpiBJ",
        "outputId": "04e91630-07eb-4d96-e2ca-280a00f47c65"
      },
      "execution_count": null,
      "outputs": [
        {
          "output_type": "stream",
          "name": "stdout",
          "text": [
            "Shape of selected features: (20640, 3)\n"
          ]
        }
      ]
    },
    {
      "cell_type": "code",
      "source": [
        "from sklearn.datasets import fetch_california_housing\n",
        "from sklearn.decomposition import PCA\n",
        "from sklearn.feature_selection import SelectKBest, f_regression\n",
        "from sklearn.preprocessing import MinMaxScaler\n",
        "\n",
        "# Fetch the California housing dataset\n",
        "data = fetch_california_housing()\n",
        "\n",
        "# Extract the features and target variable\n",
        "X = data.data\n",
        "y = data.target\n",
        "\n",
        "# Apply MinMaxScaler to normalize features between 0 and 1\n",
        "scaler = MinMaxScaler()\n",
        "X_scaled = scaler.fit_transform(X)\n",
        "\n",
        "# Perform feature extraction using PCA\n",
        "pca = PCA(n_components=3)\n",
        "X_extracted = pca.fit_transform(X_scaled)\n",
        "\n",
        "# Perform feature selection using SelectKBest with f_regression\n",
        "k_best = SelectKBest(score_func=f_regression, k=3)\n",
        "X_selected = k_best.fit_transform(X, y)\n",
        "\n",
        "# Print the shape of the extracted and selected features\n",
        "print(\"Shape of extracted features:\", X_extracted.shape)\n",
        "print(\"Shape of selected features:\", X_selected.shape)\n"
      ],
      "metadata": {
        "colab": {
          "base_uri": "https://localhost:8080/"
        },
        "id": "l67HKfbgqV9z",
        "outputId": "f8ff9ce0-daa0-4860-ada1-846cda7bb864"
      },
      "execution_count": null,
      "outputs": [
        {
          "output_type": "stream",
          "name": "stdout",
          "text": [
            "Shape of extracted features: (20640, 3)\n",
            "Shape of selected features: (20640, 3)\n"
          ]
        }
      ]
    },
    {
      "cell_type": "code",
      "source": [
        "from sklearn.datasets import fetch_california_housing\n",
        "from sklearn.model_selection import train_test_split\n",
        "from sklearn.linear_model import LinearRegression\n",
        "from sklearn.preprocessing import MinMaxScaler\n",
        "from sklearn.metrics import mean_squared_error, r2_score\n",
        "\n",
        "# Fetch the California housing dataset\n",
        "data = fetch_california_housing()\n",
        "\n",
        "# Extract the features and target variable\n",
        "X = data.data\n",
        "y = data.target\n",
        "\n",
        "# Apply MinMaxScaler to normalize features between 0 and 1\n",
        "scaler = MinMaxScaler()\n",
        "X_scaled = scaler.fit_transform(X)\n",
        "\n",
        "# Split the dataset into training and test sets\n",
        "X_train, X_test, y_train, y_test = train_test_split(X_scaled, y, test_size=0.2, random_state=42)\n",
        "\n",
        "# Initialize the linear regression model\n",
        "linear_regression = LinearRegression()\n",
        "\n",
        "# Train the model on the training data\n",
        "linear_regression.fit(X_train, y_train)\n",
        "\n",
        "# Predict on the test data\n",
        "y_pred = linear_regression.predict(X_test)\n",
        "\n",
        "# Evaluate the model\n",
        "mse = mean_squared_error(y_test, y_pred)\n",
        "r2 = r2_score(y_test, y_pred)\n",
        "print(\"Mean Squared Error:\", mse)\n",
        "print(\"R2 Score:\", r2)\n"
      ],
      "metadata": {
        "colab": {
          "base_uri": "https://localhost:8080/"
        },
        "id": "Bg1OH5eyq2R1",
        "outputId": "7683a8f8-7613-4737-c92b-96fc0751bee8"
      },
      "execution_count": null,
      "outputs": [
        {
          "output_type": "stream",
          "name": "stdout",
          "text": [
            "Mean Squared Error: 0.555891598695244\n",
            "R2 Score: 0.5757877060324511\n"
          ]
        }
      ]
    }
  ]
}